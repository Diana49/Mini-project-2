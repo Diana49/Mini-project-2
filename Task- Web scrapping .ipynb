{
 "cells": [
  {
   "cell_type": "markdown",
   "metadata": {},
   "source": [
    "### Sentiment analysis"
   ]
  },
  {
   "cell_type": "code",
   "execution_count": 11,
   "metadata": {},
   "outputs": [],
   "source": [
    "from bs4 import BeautifulSoup\n",
    "import requests"
   ]
  },
  {
   "cell_type": "code",
   "execution_count": 12,
   "metadata": {},
   "outputs": [],
   "source": [
    "# I put here my own blog url ,you can change it.\n",
    "url=\"https://getpython.wordpress.com/\"\n",
    "\n",
    "#Requests module use to data from given url\n",
    "source=requests.get(url)"
   ]
  },
  {
   "cell_type": "code",
   "execution_count": 13,
   "metadata": {},
   "outputs": [],
   "source": [
    "# BeautifulSoup is used for getting HTML structure from requests response.(craete your soup)\n",
    "soup=BeautifulSoup(source.text,'html')"
   ]
  },
  {
   "cell_type": "code",
   "execution_count": 14,
   "metadata": {},
   "outputs": [
    {
     "name": "stdout",
     "output_type": "stream",
     "text": [
      "this is with html tags : <title>Fun with python programming – A programming language for revolution</title>\n"
     ]
    }
   ],
   "source": [
    "# Find function is used to find a single element if there are more than once it always returns the first element.\n",
    "title=soup.find('title') \n",
    "\n",
    "# place your html tagg in parentheses that you want to find from html.\n",
    "print(\"this is with html tags :\",title)"
   ]
  },
  {
   "cell_type": "code",
   "execution_count": 15,
   "metadata": {},
   "outputs": [
    {
     "name": "stdout",
     "output_type": "stream",
     "text": [
      "this is without html tags: Fun with python programming\n"
     ]
    }
   ],
   "source": [
    "# here i find first h1 tagg in my website using find operation.\n",
    "qwery=soup.find('h1') \n",
    "print(\"this is without html tags:\",qwery.text) "
   ]
  },
  {
   "cell_type": "code",
   "execution_count": 16,
   "metadata": {},
   "outputs": [
    {
     "name": "stdout",
     "output_type": "stream",
     "text": [
      "<a class=\"screen-reader-text skip-link\" href=\"#content\">Skip to content</a>\n"
     ]
    }
   ],
   "source": [
    "links=soup.find('a') #i extarcted link using \"a\" tag\n",
    "print(links)"
   ]
  },
  {
   "cell_type": "code",
   "execution_count": 17,
   "metadata": {},
   "outputs": [
    {
     "name": "stdout",
     "output_type": "stream",
     "text": [
      "#content\n"
     ]
    }
   ],
   "source": [
    "# here i extarcted href data from anchor tag.\n",
    "print(links['href'])"
   ]
  },
  {
   "cell_type": "code",
   "execution_count": 18,
   "metadata": {},
   "outputs": [
    {
     "name": "stdout",
     "output_type": "stream",
     "text": [
      "['screen-reader-text', 'skip-link']\n"
     ]
    }
   ],
   "source": [
    "print(links['class'])"
   ]
  },
  {
   "cell_type": "code",
   "execution_count": 20,
   "metadata": {},
   "outputs": [
    {
     "name": "stdout",
     "output_type": "stream",
     "text": [
      "total links in my website : 68\n",
      "\n",
      "<a class=\"screen-reader-text skip-link\" href=\"#content\">Skip to content</a>\n",
      "<a href=\"https://getpython.wordpress.com/\" rel=\"home\">\n",
      "<div class=\"cover\"></div>\n",
      "</a>\n",
      "<a class=\"screen-reader-text search-toggle\" href=\"#search-container\">Search</a>\n",
      "<a href=\"https://getpython.wordpress.com/\" rel=\"home\">Fun with python programming</a>\n",
      "<a aria-current=\"page\" href=\"/\">Home</a>\n",
      "<a href=\"https://getpython.wordpress.com/contact/\">Contact</a>\n"
     ]
    }
   ],
   "source": [
    "many_link=soup.find_all('a') # here i extracted all the anchor tags of my website\n",
    "total_links=len(many_link) \n",
    "# len function is use to calculate length of your array\n",
    "\n",
    "print(\"total links in my website :\",total_links)\n",
    "print()\n",
    "for i in many_link[:6]:\n",
    "    # here i use slicing to fetch only first 6 links from rest of them.\n",
    "    print(i)"
   ]
  },
  {
   "cell_type": "code",
   "execution_count": 21,
   "metadata": {},
   "outputs": [
    {
     "name": "stdout",
     "output_type": "stream",
     "text": [
      "<a href=\"https://getpython.wordpress.com/\" rel=\"home\">\n",
      "<div class=\"cover\"></div>\n",
      "</a>\n",
      "\n",
      "href is : https://getpython.wordpress.com/\n"
     ]
    }
   ],
   "source": [
    "second_link=many_link[1] #here i fetch second link which place on 1 index number in many_links.\n",
    "print(second_link)\n",
    "print()\n",
    "print(\"href is :\",second_link['href']) #only href link is extracted from ancor tag"
   ]
  },
  {
   "cell_type": "code",
   "execution_count": 22,
   "metadata": {},
   "outputs": [
    {
     "name": "stdout",
     "output_type": "stream",
     "text": [
      "<div class=\"cover\"></div>\n",
      "\n",
      "['cover']\n",
      "<class 'list'>\n",
      "\n",
      "class name of div is : cover\n"
     ]
    }
   ],
   "source": [
    "# select div tag from second link\n",
    "nested_div=second_link.find('div')\n",
    "# As you can see div element extarcted , it also have inner elements\n",
    "print(nested_div)\n",
    "print()\n",
    "#here i extracted class element from div but it give us in the form of list\n",
    "z=(nested_div['class'])\n",
    "print(z)\n",
    "print(type(z))\n",
    "print()\n",
    "#  \" \" .join () method use to convert list type  into string type\n",
    "print(\"class name of div is :\",\" \".join(nested_div['class']))"
   ]
  },
  {
   "cell_type": "code",
   "execution_count": 7,
   "metadata": {},
   "outputs": [
    {
     "name": "stdout",
     "output_type": "stream",
     "text": [
      "<title>World War I - Wikipedia</title>\n"
     ]
    }
   ],
   "source": [
    "wiki=requests.get(\"https://en.wikipedia.org/wiki/World_War_I\")\n",
    "soup=BeautifulSoup(wiki.text,'html')\n",
    "print(soup.find('title'))"
   ]
  },
  {
   "cell_type": "code",
   "execution_count": 9,
   "metadata": {},
   "outputs": [
    {
     "name": "stdout",
     "output_type": "stream",
     "text": [
      "Contents\n",
      "\n",
      "1 Names\n",
      "2 Background\n",
      "\n",
      "2.1 Political and military alliances\n",
      "2.2 Arms race\n",
      "2.3 Conflicts in the Balkans\n",
      "\n",
      "\n",
      "3 Prelude\n",
      "\n",
      "3.1 Sarajevo assassination\n",
      "3.2 Expansion of violence in Bosnia and Herzegovina\n",
      "3.3 July Crisis\n",
      "\n",
      "\n",
      "4 Progress of the war\n",
      "\n",
      "4.1 Opening hostilities\n",
      "\n",
      "4.1.1 Confusion among the Central Powers\n",
      "4.1.2 Serbian campaign\n",
      "4.1.3 German Offensive in Belgium and France\n",
      "4.1.4 Asia and the Pacific\n",
      "4.1.5 African campaigns\n",
      "4.1.6 Indian support for the Allies\n",
      "\n",
      "\n",
      "4.2 Western Front\n",
      "\n",
      "4.2.1 Trench warfare begins\n",
      "4.2.2 Continuation of trench warfare\n",
      "\n",
      "\n",
      "4.3 Naval war\n",
      "4.4 Southern theatres\n",
      "\n",
      "4.4.1 War in the Balkans\n",
      "4.4.2 Ottoman Empire\n",
      "4.4.3 Italian participation\n",
      "4.4.4 Romanian participation\n",
      "\n",
      "\n",
      "4.5 Eastern Front\n",
      "\n",
      "4.5.1 Initial actions\n",
      "4.5.2 Russian Revolution\n",
      "4.5.3 Czechoslovak Legion\n",
      "\n",
      "\n",
      "4.6 Central Powers peace overtures\n",
      "4.7 1917–1918\n",
      "\n",
      "4.7.1 Developments in 1917\n",
      "4.7.2 Ottoman Empire conflict, 1917–1918\n",
      "4.7.3 15 August 1917: Peace offer by the Pope\n",
      "4.7.4 Entry of the United States\n",
      "4.7.5 German Spring Offensive of 1918\n",
      "4.7.6 New states enter the war\n",
      "\n",
      "\n",
      "4.8 Allied victory: summer 1918 onwards\n",
      "\n",
      "4.8.1 Hundred Days Offensive\n",
      "\n",
      "4.8.1.1 Battle of Albert\n",
      "\n",
      "\n",
      "4.8.2 Allied advance to the Hindenburg Line\n",
      "4.8.3 German Revolution 1918–1919\n",
      "4.8.4 New German government surrenders\n",
      "4.8.5 Armistices and capitulations\n",
      "\n",
      "\n",
      "\n",
      "\n",
      "5 Aftermath\n",
      "\n",
      "5.1 Formal end of the war\n",
      "5.2 Peace treaties and national boundaries\n",
      "5.3 National identities\n",
      "5.4 Health effects\n",
      "\n",
      "\n",
      "6 Technology\n",
      "\n",
      "6.1 Ground warfare\n",
      "\n",
      "6.1.1 Areas taken in major attacks\n",
      "\n",
      "\n",
      "6.2 Naval\n",
      "6.3 Aviation\n",
      "\n",
      "\n",
      "7 War crimes\n",
      "\n",
      "7.1 Baralong incidents\n",
      "7.2 Torpedoing of HMHS Llandovery Castle\n",
      "7.3 Blockade of Germany\n",
      "7.4 Chemical weapons in warfare\n",
      "7.5 Genocide and ethnic cleansing\n",
      "\n",
      "7.5.1 Ottoman Empire\n",
      "7.5.2 Russian Empire\n",
      "\n",
      "\n",
      "7.6 Rape of Belgium\n",
      "\n",
      "\n",
      "8 Soldiers' experiences\n",
      "\n",
      "8.1 Prisoners of war\n",
      "8.2 Military attachés and war correspondents\n",
      "\n",
      "\n",
      "9 Support for the war\n",
      "10 Opposition to the war\n",
      "11 Conscription\n",
      "\n",
      "11.1 Canada\n",
      "11.2 Australia\n",
      "11.3 Britain\n",
      "11.4 United States\n",
      "11.5 Austria-Hungary\n",
      "\n",
      "\n",
      "12 Diplomacy\n",
      "13 Legacy and memory\n",
      "\n",
      "13.1 Historiography\n",
      "13.2 Memorials\n",
      "13.3 Cultural memory\n",
      "13.4 Social trauma\n",
      "13.5 Discontent in Germany\n",
      "13.6 Economic effects\n",
      "\n",
      "\n",
      "14 See also\n",
      "15 Footnotes\n",
      "16 References\n",
      "17 Bibliography\n",
      "\n",
      "17.1 Primary sources\n",
      "17.2 Historiography and memory\n",
      "\n",
      "\n",
      "18 External links\n",
      "\n",
      "18.1 Animated maps\n",
      "18.2 Library guides\n",
      "\n",
      "\n",
      "\n",
      "\n"
     ]
    }
   ],
   "source": [
    "ww1_contents=soup.find_all(\"div\",class_='toc')\n",
    "for i in ww1_contents:\n",
    "    print(i.text)"
   ]
  },
  {
   "cell_type": "code",
   "execution_count": 10,
   "metadata": {},
   "outputs": [
    {
     "name": "stdout",
     "output_type": "stream",
     "text": [
      "World War I(Clockwise from the top) \n",
      "The road to Bapaume in the aftermath of the Battle of the Somme, 1916\n",
      "British Mark V tanks crossing the Hindenburg Line, 1918\n",
      "HMS Irresistible sinking after hitting a mine in the Dardanelles, 1915\n",
      "A British Vickers machine gun crew wears gas masks during the Battle of the Somme, 1916\n",
      "German Albatros D.III biplane fighters near Douai, France, 1917\n",
      "Date28 July 1914 – 11 November 1918 (1914-07-28 – 1918-11-11)(4 years, 3 months and 2 weeks)\n",
      "\n",
      "Peace treaties\n",
      "Treaty of VersaillesSigned 28 June 1919(4 years and 11 months)[b]\n",
      "Treaty of Saint-Germain-en-LayeSigned 10 September 1919(5 years, 1 month, 1 week and 6 days)\n",
      "Treaty of Neuilly-sur-SeineSigned 27 November 1919(4 years, 1 month, 1 week and 6 days)[c]\n",
      "Treaty of TrianonSigned 4 June 1920(5 years, 10 months and 1 week)\n",
      "Treaty of SèvresSigned 10 August 1920(6 years, 1 week and 6 days)[d]\n",
      "United States–Austria Peace TreatySigned 24 August 1921(3 years, 8 months, 2 weeks and 3 days)[e][f]\n",
      "United States–Germany Peace TreatySigned 25 August 1921(4 years, 4 months, 2 weeks and 5 days)[g]\n",
      "United States–Hungary Peace TreatySigned 29 August 1921(3 years, 8 months, 3 weeks and 1 day)[h]\n",
      "Treaty of LausanneSigned 24 July 1923(8 years, 8 months, 3 weeks and 4 days)[i]\n",
      "\n",
      "LocationEurope, Africa, the Middle East, the Pacific Islands, China, Indian Ocean, North and South Atlantic OceanResult\n",
      "Allied victory\n",
      "\n",
      "Central Powers victory on the Eastern Front nullified by defeat on the Western Front\n",
      "Fall of all continental empires in Europe (including Germany, Russia, Turkey and Austria-Hungary)\n",
      "Russian Revolution and Russian Civil War – the collapse of the Russian Empire and the subsequent formation of the Soviet Union\n",
      "Widespread unrest and revolutions throughout Europe and Asia\n",
      "Creation of the League of Nations (more ...)Territorialchanges\n",
      "Formation of new countries in Europe and the Middle East\n",
      "Transfer of German colonies and territories, regions of the former Ottoman Empire, regions of the former Austro-Hungarian Empire and Russian Empire territories to other countriesBelligerents\n",
      "Allied Powers: France\n",
      ".mw-parser-output .nobold{font-weight:normal} British Empire\n",
      " United Kingdom\n",
      " Canada\n",
      " Australia\n",
      " India\n",
      " New Zealand\n",
      " Newfoundland\n",
      " South Africa\n",
      "\n",
      "\n",
      " Russia[a] (1914–17)\n",
      " Serbia\n",
      " Montenegro\n",
      " Belgium\n",
      " Japan\n",
      " Italy (1915–18)\n",
      " United States (1917–18)\n",
      " Romania (1916–18)\n",
      " Portugal (1916–18)\n",
      " Hejaz (1916–18)\n",
      " China (1917–18)\n",
      " Greece (1917–18)\n",
      " Siam (1917–18)\n",
      "... and others\n",
      "\n",
      "Central Powers:\n",
      " Germany\n",
      " Austria-Hungary\n",
      " Ottoman Empire\n",
      " Bulgaria (1915–18)\n",
      "... and co-belligerents\n",
      "Commanders and leaders\n",
      "\n",
      " Raymond Poincaré\n",
      " Georges Clemenceau\n",
      " Herbert H. Asquith\n",
      " David Lloyd George\n",
      " Nicholas II †\n",
      " Georgy Lvov\n",
      " Alexander Kerensky\n",
      " Victor Emmanuel III\n",
      " Vittorio Orlando\n",
      " Woodrow Wilson\n",
      " Yoshihito\n",
      " Albert I\n",
      " Peter I\n",
      " Ferdinand I\n",
      " Eleftherios Venizelos\n",
      "and others ...\n",
      "\n",
      "\n",
      "\n",
      " Wilhelm II\n",
      " Paul von Hindenburg\n",
      " Erich Ludendorff\n",
      " Franz Joseph I †\n",
      " Karl I\n",
      " Mehmed V †\n",
      " Mehmed VI\n",
      " Three Pashas\n",
      " Ferdinand I\n",
      "and others ...\n",
      "\n",
      "Strength\n",
      "Total: 42,959,850[1]\n",
      " 12,000,000\n",
      " 8,841,541[2][3]\n",
      " 8,660,000[4]\n",
      " 5,615,140\n",
      " 4,743,826\n",
      " 800,000\n",
      " 707,343\n",
      " 658,000\n",
      " 380,000\n",
      " 250,000\n",
      " 80,000\n",
      " 50,000\n",
      "\n",
      "Total: 25,248,321[1]\n",
      " 13,250,000\n",
      " 7,800,000\n",
      " 2,998,321\n",
      " 1,200,000\n",
      "\n",
      "68,208,171 (Total all)Casualties and losses\n",
      "\n",
      "Military dead: 5,525,000\n",
      "Military wounded: 12,831,500\n",
      "Total: 18,356,500 KIA, WIA and MIA\n",
      "Civilian dead: 4,000,000\n",
      "\n",
      "further details ...\n",
      "\n",
      "\n",
      "Military deaths by country[5][6]\n",
      "\n",
      "\n",
      " 1,811,000\n",
      " 1,397,800\n",
      " 1,114,914\n",
      " 651,000\n",
      " 250,000–335,000\n",
      " 275,000\n",
      " 116,708\n",
      " 58,637–87,500\n",
      " 26,000\n",
      " 7,222\n",
      " 3,000\n",
      " 415\n",
      "\n",
      "\n",
      "Military dead: 4,386,000\n",
      "Military wounded: 8,388,000\n",
      "Total: 12,774,000 KIA, WIA and MIA\n",
      "Civilian dead: 3,700,000\n",
      "\n",
      "further details ...\n",
      "\n",
      "\n",
      "Military deaths by country[5]\n",
      "\n",
      "\n",
      " 2,050,897\n",
      " 1,200,000\n",
      " 771,844\n",
      " 87,500\n",
      "\n"
     ]
    }
   ],
   "source": [
    "overview=soup.find_all('table',class_='infobox vevent')\n",
    "for z in overview:\n",
    "    print(z.text)"
   ]
  },
  {
   "cell_type": "code",
   "execution_count": null,
   "metadata": {},
   "outputs": [],
   "source": []
  }
 ],
 "metadata": {
  "kernelspec": {
   "display_name": "Python 3",
   "language": "python",
   "name": "python3"
  },
  "language_info": {
   "codemirror_mode": {
    "name": "ipython",
    "version": 3
   },
   "file_extension": ".py",
   "mimetype": "text/x-python",
   "name": "python",
   "nbconvert_exporter": "python",
   "pygments_lexer": "ipython3",
   "version": "3.7.4"
  }
 },
 "nbformat": 4,
 "nbformat_minor": 2
}
