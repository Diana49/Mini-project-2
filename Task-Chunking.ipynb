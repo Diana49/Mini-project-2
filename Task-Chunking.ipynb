{
 "cells": [
  {
   "cell_type": "code",
   "execution_count": 1,
   "metadata": {},
   "outputs": [],
   "source": [
    "import nltk"
   ]
  },
  {
   "cell_type": "code",
   "execution_count": 2,
   "metadata": {},
   "outputs": [],
   "source": [
    "synt=\"NP: {<DT>?<JJ>*<NN>}\""
   ]
  },
  {
   "cell_type": "code",
   "execution_count": 5,
   "metadata": {},
   "outputs": [],
   "source": [
    "parser=nltk.RegexpParser(synt)"
   ]
  },
  {
   "cell_type": "code",
   "execution_count": 6,
   "metadata": {},
   "outputs": [
    {
     "data": {
      "text/plain": [
       "[('In', 'IN'),\n",
       " ('corpus', 'NN'),\n",
       " ('linguistics', 'NNS'),\n",
       " (',', ','),\n",
       " ('Parts-of-speech', 'JJ'),\n",
       " ('tagging', 'NN'),\n",
       " ('(', '('),\n",
       " ('POS', 'NNP'),\n",
       " ('tagging', 'VBG'),\n",
       " (')', ')'),\n",
       " (',', ','),\n",
       " ('also', 'RB'),\n",
       " ('called', 'VBD'),\n",
       " ('grammatical', 'JJ'),\n",
       " ('tagging', 'NN'),\n",
       " (',', ','),\n",
       " ('is', 'VBZ'),\n",
       " ('the', 'DT'),\n",
       " ('process', 'NN'),\n",
       " ('of', 'IN'),\n",
       " ('marking', 'VBG'),\n",
       " ('up', 'RP'),\n",
       " ('a', 'DT'),\n",
       " ('word', 'NN'),\n",
       " ('in', 'IN'),\n",
       " ('a', 'DT'),\n",
       " ('text', 'NN'),\n",
       " ('(', '('),\n",
       " ('corpus', 'NN'),\n",
       " (')', ')'),\n",
       " ('as', 'IN'),\n",
       " ('corresponding', 'VBG'),\n",
       " ('to', 'TO'),\n",
       " ('their', 'PRP$'),\n",
       " ('particular', 'JJ'),\n",
       " ('parts', 'NNS'),\n",
       " ('of', 'IN'),\n",
       " ('speech', 'NN'),\n",
       " (',', ','),\n",
       " ('based', 'VBN'),\n",
       " ('on', 'IN'),\n",
       " ('both', 'DT'),\n",
       " ('its', 'PRP$'),\n",
       " ('definition', 'NN'),\n",
       " (',', ','),\n",
       " ('as', 'RB'),\n",
       " ('well', 'RB'),\n",
       " ('as', 'IN'),\n",
       " ('its', 'PRP$'),\n",
       " ('context', 'NN')]"
      ]
     },
     "execution_count": 6,
     "metadata": {},
     "output_type": "execute_result"
    }
   ],
   "source": [
    "text = nltk.word_tokenize(\"In corpus linguistics, Parts-of-speech tagging (POS tagging), also called grammatical tagging, is the process of marking up a word in a text (corpus) as corresponding to their particular parts of speech, based on both its definition, as well as its context\")\n",
    "nltk.pos_tag(text)"
   ]
  },
  {
   "cell_type": "code",
   "execution_count": 7,
   "metadata": {},
   "outputs": [],
   "source": [
    "out=parser.parse(nltk.pos_tag(text))"
   ]
  },
  {
   "cell_type": "code",
   "execution_count": 8,
   "metadata": {},
   "outputs": [
    {
     "name": "stdout",
     "output_type": "stream",
     "text": [
      "(S\n",
      "  In/IN\n",
      "  (NP corpus/NN)\n",
      "  linguistics/NNS\n",
      "  ,/,\n",
      "  (NP Parts-of-speech/JJ tagging/NN)\n",
      "  (/(\n",
      "  POS/NNP\n",
      "  tagging/VBG\n",
      "  )/)\n",
      "  ,/,\n",
      "  also/RB\n",
      "  called/VBD\n",
      "  (NP grammatical/JJ tagging/NN)\n",
      "  ,/,\n",
      "  is/VBZ\n",
      "  (NP the/DT process/NN)\n",
      "  of/IN\n",
      "  marking/VBG\n",
      "  up/RP\n",
      "  (NP a/DT word/NN)\n",
      "  in/IN\n",
      "  (NP a/DT text/NN)\n",
      "  (/(\n",
      "  (NP corpus/NN)\n",
      "  )/)\n",
      "  as/IN\n",
      "  corresponding/VBG\n",
      "  to/TO\n",
      "  their/PRP$\n",
      "  particular/JJ\n",
      "  parts/NNS\n",
      "  of/IN\n",
      "  (NP speech/NN)\n",
      "  ,/,\n",
      "  based/VBN\n",
      "  on/IN\n",
      "  both/DT\n",
      "  its/PRP$\n",
      "  (NP definition/NN)\n",
      "  ,/,\n",
      "  as/RB\n",
      "  well/RB\n",
      "  as/IN\n",
      "  its/PRP$\n",
      "  (NP context/NN))\n"
     ]
    }
   ],
   "source": [
    "print(out)"
   ]
  },
  {
   "cell_type": "code",
   "execution_count": 10,
   "metadata": {},
   "outputs": [],
   "source": [
    "synt1=\"NAME: {<IN|TO><NN|VB><IN>?<NNP>}\"\n",
    "parser1=nltk.RegexpParser(synt1)"
   ]
  },
  {
   "cell_type": "code",
   "execution_count": 11,
   "metadata": {},
   "outputs": [],
   "source": [
    "text1=(\"Microsoft Corporation is an American multinational technology company with headquarters in Redmond, Washington. It develops, manufactures, licenses, supports, and sells computer software, consumer electronics, personal computers, and related services.\")"
   ]
  },
  {
   "cell_type": "code",
   "execution_count": 31,
   "metadata": {},
   "outputs": [],
   "source": [
    "textt1 = nltk.word_tokenize(\"Microsoft Corporation is an American multinational technology company with headquarters in Redmond, Washington. It develops, manufactures, licenses, supports, and sells computer software, consumer electronics, personal computers, and related services.\")\n"
   ]
  },
  {
   "cell_type": "code",
   "execution_count": 36,
   "metadata": {},
   "outputs": [],
   "source": [
    "chunks=nltk.ne_chunk(nltk.pos_tag(textt1))"
   ]
  },
  {
   "cell_type": "code",
   "execution_count": 37,
   "metadata": {},
   "outputs": [],
   "source": [
    "entities={}\n",
    "for chunk in chunks:\n",
    "    if type(chunk) is nltk.Tree:\n",
    "        t=''.join(c[0] for c in chunk.leaves())\n",
    "        entities[t]=chunk.label()"
   ]
  },
  {
   "cell_type": "code",
   "execution_count": 39,
   "metadata": {},
   "outputs": [
    {
     "name": "stdout",
     "output_type": "stream",
     "text": [
      "{'Microsoft': 'PERSON', 'Corporation': 'ORGANIZATION', 'American': 'GPE', 'Redmond': 'GPE', 'Washington': 'GPE'}\n"
     ]
    }
   ],
   "source": [
    "#named entities\n",
    "print(entities)"
   ]
  },
  {
   "cell_type": "code",
   "execution_count": null,
   "metadata": {},
   "outputs": [],
   "source": []
  }
 ],
 "metadata": {
  "kernelspec": {
   "display_name": "Python 3",
   "language": "python",
   "name": "python3"
  },
  "language_info": {
   "codemirror_mode": {
    "name": "ipython",
    "version": 3
   },
   "file_extension": ".py",
   "mimetype": "text/x-python",
   "name": "python",
   "nbconvert_exporter": "python",
   "pygments_lexer": "ipython3",
   "version": "3.7.4"
  }
 },
 "nbformat": 4,
 "nbformat_minor": 2
}
